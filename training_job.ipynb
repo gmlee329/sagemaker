{
 "metadata": {
  "language_info": {
   "codemirror_mode": {
    "name": "ipython",
    "version": 3
   },
   "file_extension": ".py",
   "mimetype": "text/x-python",
   "name": "python",
   "nbconvert_exporter": "python",
   "pygments_lexer": "ipython3",
   "version": "3.8.0"
  },
  "orig_nbformat": 2,
  "kernelspec": {
   "name": "python380jvsc74a57bd00990db4c2b62c49f93295946607e42122e27fde12644137ca127fa39d262241f",
   "display_name": "Python 3.8.0 64-bit ('sagemaker')"
  }
 },
 "nbformat": 4,
 "nbformat_minor": 2,
 "cells": [
  {
   "cell_type": "code",
   "execution_count": 2,
   "metadata": {},
   "outputs": [
    {
     "output_type": "stream",
     "name": "stdout",
     "text": [
      "\nAn error occurred (BucketAlreadyOwnedByYou) when calling the CreateBucket operation: Your previous request to create the named bucket succeeded and you already own it.\n"
     ]
    }
   ],
   "source": [
    "import boto3\n",
    "region = boto3.session.Session().region_name\n",
    "bucket = 'resnet-bucket'\n",
    "!aws s3api create-bucket --bucket {bucket} --create-bucket-configuration LocationConstraint={region}"
   ]
  },
  {
   "cell_type": "code",
   "execution_count": 7,
   "metadata": {},
   "outputs": [
    {
     "output_type": "stream",
     "name": "stdout",
     "text": [
      "upload: container/local_test/test_dir/input/config/resourceConfig.json to s3://resnet-bucket/input/config/resourceConfig.json\n",
      "upload: container/local_test/test_dir/input/config/hyperparameters.json to s3://resnet-bucket/input/config/hyperparameters.json\n",
      "upload: container/local_test/test_dir/input/data/training/x_test.npy to s3://resnet-bucket/input/data/training/x_test.npy\n",
      "upload: container/local_test/test_dir/input/data/training/y_test.npy to s3://resnet-bucket/input/data/training/y_test.npy\n",
      "upload: container/local_test/test_dir/input/data/training/y_train.npy to s3://resnet-bucket/input/data/training/y_train.npy\n",
      "upload: container/local_test/test_dir/input/data/training/y_validation.npy to s3://resnet-bucket/input/data/training/y_validation.npy\n",
      "upload: container/local_test/test_dir/input/data/training/x_train.npy to s3://resnet-bucket/input/data/training/x_train.npy\n",
      "upload: container/local_test/test_dir/input/data/training/x_validation.npy to s3://resnet-bucket/input/data/training/x_validation.npy\n",
      "upload: container/local_test/test_dir/model/model01-0.80.h5 to s3://resnet-bucket/model/model01-0.80.h5\n",
      "upload: container/local_test/test_dir/model/model02-0.90.h5 to s3://resnet-bucket/model/model02-0.90.h5\n",
      "upload: container/local_test/test_dir/model/model03-1.00.h5 to s3://resnet-bucket/model/model03-1.00.h5\n"
     ]
    }
   ],
   "source": [
    "!aws s3 cp --recursive container/local_test/test_dir/ s3://{bucket}"
   ]
  },
  {
   "cell_type": "code",
   "execution_count": 3,
   "metadata": {},
   "outputs": [
    {
     "output_type": "execute_result",
     "data": {
      "text/plain": [
       "'239622400621.dkr.ecr.us-west-2.amazonaws.com/resnet'"
      ]
     },
     "metadata": {},
     "execution_count": 3
    }
   ],
   "source": [
    "account = boto3.client('sts').get_caller_identity().get('Account')\n",
    "image_name = \"resnet\"\n",
    "repositoryUri = \"{}.dkr.ecr.{}.amazonaws.com/{}\".format(account, region, image_name)\n",
    "repositoryUri"
   ]
  },
  {
   "cell_type": "code",
   "execution_count": 12,
   "metadata": {},
   "outputs": [
    {
     "output_type": "execute_result",
     "data": {
      "text/plain": [
       "'resnet-2021-05-06-10-52'"
      ]
     },
     "metadata": {},
     "execution_count": 12
    }
   ],
   "source": [
    "from datetime import datetime\n",
    "now = datetime.now()\n",
    "job_name = 'resnet-' + now.strftime(\"%Y-%m-%d-%H-%M\")\n",
    "job_name"
   ]
  },
  {
   "cell_type": "code",
   "execution_count": 9,
   "metadata": {},
   "outputs": [
    {
     "output_type": "stream",
     "name": "stderr",
     "text": [
      "Couldn't call 'get_role' to get Role ARN from role name ikmr0004 to get Role path.\n"
     ]
    },
    {
     "output_type": "execute_result",
     "data": {
      "text/plain": [
       "'arn:aws:iam::239622400621:role/SageMakerRole'"
      ]
     },
     "metadata": {},
     "execution_count": 9
    }
   ],
   "source": [
    "import sagemaker\n",
    "from sagemaker import get_execution_role\n",
    "sagemaker_session = sagemaker.Session()\n",
    "try:\n",
    "    role = get_execution_role()\n",
    "except Exception as e:\n",
    "    iam = boto3.client('iam')\n",
    "    role = iam.get_role(RoleName='SageMakerRole')['Role']['Arn']\n",
    "sm = boto3.client('sagemaker')\n",
    "role"
   ]
  },
  {
   "cell_type": "code",
   "execution_count": 10,
   "metadata": {},
   "outputs": [],
   "source": [
    "training='s3://{}/input/data/training/'.format(bucket)\n",
    "modelpath='s3://{}/models/'.format(bucket)\n",
    "\n",
    "AlgorithmSpecification = {\n",
    "    'TrainingImage': repositoryUri,\n",
    "    'TrainingInputMode': 'File',\n",
    "    }\n",
    "InputDataConfig = [\n",
    "    {\n",
    "        'ChannelName': 'training',\n",
    "        'DataSource': {\n",
    "            'S3DataSource': {\n",
    "                'S3DataType': 'S3Prefix',\n",
    "                'S3Uri': training,\n",
    "                'S3DataDistributionType': 'FullyReplicated',\n",
    "            },\n",
    "        },\n",
    "        'InputMode': 'File'\n",
    "    }\n",
    "]\n",
    "OutputDataConfig = {\n",
    "    'S3OutputPath': modelpath\n",
    "    }\n",
    "ResourceConfig = {\n",
    "    'InstanceType': 'ml.c5.4xlarge',\n",
    "    'InstanceCount': 1,\n",
    "    'VolumeSizeInGB': 30,\n",
    "    }\n",
    "StoppingCondition = {\n",
    "    'MaxRuntimeInSeconds': 60*60*12,\n",
    "    }"
   ]
  },
  {
   "cell_type": "code",
   "execution_count": 13,
   "metadata": {},
   "outputs": [
    {
     "output_type": "execute_result",
     "data": {
      "text/plain": [
       "{'TrainingJobArn': 'arn:aws:sagemaker:us-west-2:239622400621:training-job/resnet-2021-05-06-10-52',\n",
       " 'ResponseMetadata': {'RequestId': 'd17d5308-d48d-42ae-9706-c8c975941c04',\n",
       "  'HTTPStatusCode': 200,\n",
       "  'HTTPHeaders': {'x-amzn-requestid': 'd17d5308-d48d-42ae-9706-c8c975941c04',\n",
       "   'content-type': 'application/x-amz-json-1.1',\n",
       "   'content-length': '98',\n",
       "   'date': 'Thu, 06 May 2021 01:52:41 GMT'},\n",
       "  'RetryAttempts': 0}}"
      ]
     },
     "metadata": {},
     "execution_count": 13
    }
   ],
   "source": [
    "response = sm.create_training_job(\n",
    "    TrainingJobName = job_name,\n",
    "    AlgorithmSpecification = AlgorithmSpecification,\n",
    "    RoleArn = role,\n",
    "    InputDataConfig = InputDataConfig,\n",
    "    OutputDataConfig = OutputDataConfig,\n",
    "    ResourceConfig = ResourceConfig,\n",
    "    StoppingCondition = StoppingCondition\n",
    ")\n",
    "response"
   ]
  },
  {
   "source": [
    "import time\n",
    "sm = boto3.client('sagemaker')\n",
    "\n",
    "result = 1\n",
    "while result is not 0:\n",
    "    result = 0    \n",
    "    respones = sm.describe_training_job(TrainingJobName=job_name)['TrainingJobStatus']\n",
    "    print(\"job status:{}\".format(respones))\n",
    "    status = 0 if respones == 'Completed' else 1\n",
    "    result = result + status\n",
    "    time.sleep(20)\n",
    "print('all job completed')"
   ],
   "cell_type": "code",
   "metadata": {},
   "execution_count": 8,
   "outputs": [
    {
     "output_type": "error",
     "ename": "Error",
     "evalue": "Pip module Unable to parse debugpy output, please log an issue with https://github.com/microsoft/vscode-jupyter is required for debugging cells. You will need to install it to debug cells.",
     "traceback": [
      "Error: Pip module Unable to parse debugpy output, please log an issue with https://github.com/microsoft/vscode-jupyter is required for debugging cells. You will need to install it to debug cells.",
      "at b.parseConnectInfo (/home/user/.vscode-server/extensions/ms-toolsai.jupyter-2021.5.745244803/out/client/extension.js:49:478177)",
      "at b.connectToLocal (/home/user/.vscode-server/extensions/ms-toolsai.jupyter-2021.5.745244803/out/client/extension.js:49:478704)",
      "at async b.connect (/home/user/.vscode-server/extensions/ms-toolsai.jupyter-2021.5.745244803/out/client/extension.js:49:476581)",
      "at async b.startDebugSession (/home/user/.vscode-server/extensions/ms-toolsai.jupyter-2021.5.745244803/out/client/extension.js:49:475728)",
      "at async T.submitCode (/home/user/.vscode-server/extensions/ms-toolsai.jupyter-2021.5.745244803/out/client/extension.js:32:663261)",
      "at async T.handleRunByLine (/home/user/.vscode-server/extensions/ms-toolsai.jupyter-2021.5.745244803/out/client/extension.js:32:651205)"
     ]
    }
   ]
  }
 ]
}