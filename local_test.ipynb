{
 "metadata": {
  "language_info": {
   "codemirror_mode": {
    "name": "ipython",
    "version": 3
   },
   "file_extension": ".py",
   "mimetype": "text/x-python",
   "name": "python",
   "nbconvert_exporter": "python",
   "pygments_lexer": "ipython3",
   "version": "3.8.0"
  },
  "orig_nbformat": 2,
  "kernelspec": {
   "name": "python380jvsc74a57bd00990db4c2b62c49f93295946607e42122e27fde12644137ca127fa39d262241f",
   "display_name": "Python 3.8.0 64-bit ('sagemaker')"
  }
 },
 "nbformat": 4,
 "nbformat_minor": 2,
 "cells": [
  {
   "cell_type": "code",
   "execution_count": 5,
   "metadata": {},
   "outputs": [
    {
     "output_type": "stream",
     "name": "stdout",
     "text": [
      "{'category': '밥상'}\n"
     ]
    }
   ],
   "source": [
    "from PIL import Image\n",
    "import numpy as np\n",
    "import json\n",
    "import requests\n",
    "\n",
    "img = Image.open('./sample.png')\n",
    "img = img.resize(size=(80,80))\n",
    "img = np.array(img)\n",
    "img = img.reshape(1,80,80,3) / 255.\n",
    "img = img.tolist()\n",
    "test_data = {\n",
    "    'img' : img\n",
    "}\n",
    "json_data = json.dumps(test_data)\n",
    "headers = {\n",
    "    'Content-Type': 'application/json'\n",
    "    }\n",
    "\n",
    "url = 'http://localhost:8888/invocations'\n",
    "\n",
    "response = requests.post(url, data=json_data, headers=headers)\n",
    "print(response.json())"
   ]
  }
 ]
}