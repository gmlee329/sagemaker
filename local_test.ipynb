{
 "metadata": {
  "language_info": {
   "codemirror_mode": {
    "name": "ipython",
    "version": 3
   },
   "file_extension": ".py",
   "mimetype": "text/x-python",
   "name": "python",
   "nbconvert_exporter": "python",
   "pygments_lexer": "ipython3",
   "version": "3.8.0"
  },
  "orig_nbformat": 2,
  "kernelspec": {
   "name": "python380jvsc74a57bd00990db4c2b62c49f93295946607e42122e27fde12644137ca127fa39d262241f",
   "display_name": "Python 3.8.0 64-bit ('sagemaker')",
   "language": "python"
  }
 },
 "nbformat": 4,
 "nbformat_minor": 2,
 "cells": [
  {
   "cell_type": "code",
   "execution_count": 24,
   "metadata": {},
   "outputs": [
    {
     "output_type": "stream",
     "name": "stdout",
     "text": [
      "{'category': [['의자', 100], ['화장대', 0], ['소파', 0], ['침대', 0]], 'standard': '컴퓨터 의자'}\n"
     ]
    }
   ],
   "source": [
    "from PIL import Image\n",
    "import numpy as np\n",
    "import json\n",
    "import requests\n",
    "from im_utils import *\n",
    "\n",
    "def img_to_npy(img):\n",
    "    img = check_angle(img)\n",
    "    img = make_square(img)\n",
    "    img = img.convert('RGB')\n",
    "    img = resize_img(img, shape=(100,100))\n",
    "    img = np.array(img).reshape(1,100,100,3) / 255.\n",
    "    return img\n",
    "\n",
    "img = Image.open('./sample_img/chair5.jpg')\n",
    "img = img_to_npy(img)\n",
    "\n",
    "img = img.tolist()\n",
    "test_data = {\n",
    "    'img' : img\n",
    "}\n",
    "json_data = json.dumps(test_data)\n",
    "headers = {\n",
    "    'Content-Type': 'application/json'\n",
    "    }\n",
    "\n",
    "url = 'http://localhost:8888/invocations'\n",
    "\n",
    "response = requests.post(url, data=json_data, headers=headers)\n",
    "print(response.json())"
   ]
  }
 ]
}